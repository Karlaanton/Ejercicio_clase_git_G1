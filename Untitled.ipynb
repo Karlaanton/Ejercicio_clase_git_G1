{
 "cells": [
  {
   "cell_type": "code",
   "execution_count": 3,
   "metadata": {},
   "outputs": [
    {
     "name": "stdout",
     "output_type": "stream",
     "text": [
      "Introducir número: 8\n",
      "Introducir función a definir (seno, coseno, tangente, exponencial o logaritmica): tangente\n",
      "0.0\n",
      "1.1189396031849523\n",
      "1.2845059111062989\n",
      "0.14206432606847258\n",
      "-0.9443838836712296\n",
      "-1.4250920813534227\n",
      "-0.2869215992280232\n",
      "0.7712876745121234\n",
      "1.5215471809431986\n",
      "Volver a introducir número y función correctamente\n"
     ]
    }
   ],
   "source": [
    "# 15 - ejercicio 5\n",
    "#Andrés Green Garciarce\n",
    "# Menu para funciones seno, coseno, tangente, exponencial y logaritmica\n",
    "\n",
    "# importar numpy para poder meter funciones\n",
    "import numpy as np\n",
    "\n",
    "# definir variables\n",
    "valor = input(\"Introducir número: \") # pregunta para cliente el número que desea conocer\n",
    "valor = int(valor) #convierte string a integer\n",
    "\n",
    "funcion = input(\"Introducir función a definir (seno, coseno, tangente, exponencial o logaritmica): \")# preguntar a usuario que función quiere   \n",
    "\n",
    "# desarrollar calculadora para cliente\n",
    "for valor in range(valor+1):\n",
    "    valor = np.sin(valor)\n",
    "    if funcion == \"seno\":\n",
    "        sin = np.sin(valor)\n",
    "        print(sin)\n",
    "    elif funcion == \"coseno\":\n",
    "        coseno = np.cos(valor)\n",
    "        print(coseno)\n",
    "    elif funcion == \"tangente\":\n",
    "        tangente = np.tan(valor)\n",
    "        print(tangente)\n",
    "    elif funcion == \"exponencial\":\n",
    "        exponencial = np.exp(valor)\n",
    "        print(exponencial)\n",
    "    elif funcion == \"logaritmica\": \n",
    "        logar = np.log(valor)\n",
    "        print(logar)\n",
    "else:\n",
    "        print(\"Volver a introducir número y función correctamente\")"
   ]
  },
  {
   "cell_type": "code",
   "execution_count": null,
   "metadata": {},
   "outputs": [],
   "source": []
  },
  {
   "cell_type": "code",
   "execution_count": null,
   "metadata": {},
   "outputs": [],
   "source": []
  }
 ],
 "metadata": {
  "kernelspec": {
   "display_name": "Python 3",
   "language": "python",
   "name": "python3"
  },
  "language_info": {
   "codemirror_mode": {
    "name": "ipython",
    "version": 3
   },
   "file_extension": ".py",
   "mimetype": "text/x-python",
   "name": "python",
   "nbconvert_exporter": "python",
   "pygments_lexer": "ipython3",
   "version": "3.7.4"
  }
 },
 "nbformat": 4,
 "nbformat_minor": 2
}
